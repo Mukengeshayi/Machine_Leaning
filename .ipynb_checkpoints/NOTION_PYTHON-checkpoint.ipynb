{
 "cells": [
  {
   "cell_type": "code",
   "execution_count": 1,
   "metadata": {},
   "outputs": [
    {
     "data": {
      "text/plain": [
       "'Bonjour'"
      ]
     },
     "execution_count": 1,
     "metadata": {},
     "output_type": "execute_result"
    }
   ],
   "source": [
    "f= open('fichier.txt','r')\n",
    "f.read()"
   ]
  },
  {
   "cell_type": "code",
   "execution_count": 3,
   "metadata": {},
   "outputs": [],
   "source": [
    "with open('fichier.txt','w') as f:\n",
    "    for i in range(10):\n",
    "        f.write(\"{}**2={}\\n\".format(i,i**2))\n",
    "    "
   ]
  },
  {
   "cell_type": "code",
   "execution_count": 1,
   "metadata": {},
   "outputs": [
    {
     "data": {
      "text/plain": [
       "['0**2=0\\n',\n",
       " '1**2=1\\n',\n",
       " '2**2=4\\n',\n",
       " '3**2=9\\n',\n",
       " '4**2=16\\n',\n",
       " '5**2=25\\n',\n",
       " '6**2=36\\n',\n",
       " '7**2=49\\n',\n",
       " '8**2=64\\n',\n",
       " '9**2=81\\n']"
      ]
     },
     "execution_count": 1,
     "metadata": {},
     "output_type": "execute_result"
    }
   ],
   "source": [
    "with open('fichier.txt','r') as f:\n",
    "    list= f.readlines()\n",
    "list"
   ]
  },
  {
   "cell_type": "code",
   "execution_count": 2,
   "metadata": {},
   "outputs": [
    {
     "data": {
      "text/plain": [
       "['0**2=0',\n",
       " '1**2=1',\n",
       " '2**2=4',\n",
       " '3**2=9',\n",
       " '4**2=16',\n",
       " '5**2=25',\n",
       " '6**2=36',\n",
       " '7**2=49',\n",
       " '8**2=64',\n",
       " '9**2=81']"
      ]
     },
     "execution_count": 2,
     "metadata": {},
     "output_type": "execute_result"
    }
   ],
   "source": [
    "with open('fichier.txt','r') as f:\n",
    "    list= f.read().splitlines()\n",
    "list"
   ]
  },
  {
   "cell_type": "code",
   "execution_count": 3,
   "metadata": {},
   "outputs": [
    {
     "data": {
      "text/plain": [
       "['0**2=0\\n',\n",
       " '1**2=1\\n',\n",
       " '2**2=4\\n',\n",
       " '3**2=9\\n',\n",
       " '4**2=16\\n',\n",
       " '5**2=25\\n',\n",
       " '6**2=36\\n',\n",
       " '7**2=49\\n',\n",
       " '8**2=64\\n',\n",
       " '9**2=81\\n']"
      ]
     },
     "execution_count": 3,
     "metadata": {},
     "output_type": "execute_result"
    }
   ],
   "source": [
    "liste=[line for line in open('fichier.txt','r')]\n",
    "liste"
   ]
  },
  {
   "cell_type": "code",
   "execution_count": null,
   "metadata": {},
   "outputs": [],
   "source": [
    "liste=[line.strip() for line in open('fichier.txt','r')]\n",
    "liste"
   ]
  }
 ],
 "metadata": {
  "kernelspec": {
   "display_name": "Python 3",
   "language": "python",
   "name": "python3"
  },
  "language_info": {
   "codemirror_mode": {
    "name": "ipython",
    "version": 3
   },
   "file_extension": ".py",
   "mimetype": "text/x-python",
   "name": "python",
   "nbconvert_exporter": "python",
   "pygments_lexer": "ipython3",
   "version": "3.8.5"
  }
 },
 "nbformat": 4,
 "nbformat_minor": 4
}
